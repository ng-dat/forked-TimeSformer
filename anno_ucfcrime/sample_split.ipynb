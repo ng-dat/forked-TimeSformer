{
 "cells": [
  {
   "cell_type": "markdown",
   "id": "fbea66f6-6d24-4a96-819a-03a3ddc4861b",
   "metadata": {},
   "source": [
    "# Prepare data"
   ]
  },
  {
   "cell_type": "code",
   "execution_count": 24,
   "id": "23446b59-2e76-450e-9b09-7a6e0edb9ff3",
   "metadata": {},
   "outputs": [],
   "source": [
    "with open('./file_paths.txt') as f:\n",
    "    all_paths = f.readlines()[0]\n",
    "    paths = all_paths.split()"
   ]
  },
  {
   "cell_type": "code",
   "execution_count": 25,
   "id": "a7e55f8f-8b08-4a13-a1df-b3d98b458a46",
   "metadata": {},
   "outputs": [
    {
     "data": {
      "text/plain": [
       "171"
      ]
     },
     "execution_count": 25,
     "metadata": {},
     "output_type": "execute_result"
    }
   ],
   "source": [
    "len(paths)"
   ]
  },
  {
   "cell_type": "code",
   "execution_count": 3,
   "id": "955f9ae8-0b96-4c7b-9076-b29fb863dcd8",
   "metadata": {},
   "outputs": [],
   "source": [
    "classes_txt = 'Normal, Abuse, Arrest, Arson, Assault, Road Accident, Burglary, Explosion, Fighting, Robbery, Shooting, Stealing, Shoplifting, Vandalism'\n",
    "classes = classes_txt.split(', ')\n",
    "class_idxs = dict()\n",
    "for i in range(len(classes)):\n",
    "    class_idxs[classes[i]] = i"
   ]
  },
  {
   "cell_type": "code",
   "execution_count": 32,
   "id": "c84204eb-c5bf-4d06-89d0-c2a44e15945f",
   "metadata": {},
   "outputs": [
    {
     "name": "stdout",
     "output_type": "stream",
     "text": [
      "{'Normal': 0, 'Abuse': 1, 'Arrest': 2, 'Arson': 3, 'Assault': 4, 'Road Accident': 5, 'Burglary': 6, 'Explosion': 7, 'Fighting': 8, 'Robbery': 9, 'Shooting': 10, 'Stealing': 11, 'Shoplifting': 12, 'Vandalism': 13}\n",
      "14\n"
     ]
    }
   ],
   "source": [
    "print(class_idxs)\n",
    "print(len(classes))"
   ]
  },
  {
   "cell_type": "markdown",
   "id": "b7d3a887-be89-4fa1-a6c7-b89dc1cdb702",
   "metadata": {},
   "source": [
    "# Split data"
   ]
  },
  {
   "cell_type": "code",
   "execution_count": 26,
   "id": "95530895-3585-44a3-b767-e28d103c496e",
   "metadata": {},
   "outputs": [],
   "source": [
    "import random\n",
    "random.shuffle(paths)"
   ]
  },
  {
   "cell_type": "code",
   "execution_count": 27,
   "id": "8e3b4033-540d-4357-81b0-99d40665e902",
   "metadata": {},
   "outputs": [],
   "source": [
    "train = paths[:120]\n",
    "dev = paths[120:140]\n",
    "test = paths[140:]"
   ]
  },
  {
   "cell_type": "code",
   "execution_count": 30,
   "id": "3661b280-81fb-44ff-bd70-efaabcdfd7d0",
   "metadata": {},
   "outputs": [],
   "source": [
    "train_ds = []\n",
    "val_ds = []\n",
    "test_ds = []\n",
    "\n",
    "for f in train:\n",
    "    for class_ in class_idxs.keys():\n",
    "        if class_ in f:\n",
    "            train_ds.append([f, class_idxs[class_]])\n",
    "            break\n",
    "    \n",
    "val_ds = train_ds\n",
    "            \n",
    "for f in test:\n",
    "    for class_ in class_idxs.keys():\n",
    "        if class_ in f:\n",
    "            test_ds.append([f, class_idxs[class_]])\n",
    "            break\n",
    "\n",
    "# for f in train:\n",
    "#     if 'Normal' in f:\n",
    "#         train_ds.append([f, 0])\n",
    "#     else:\n",
    "#         train_ds.append([f, 1])\n",
    "    \n",
    "# val_ds = train_ds\n",
    "            \n",
    "# for f in test:\n",
    "#     if 'Normal' in f:\n",
    "#         test_ds.append([f, 0])\n",
    "#     else:\n",
    "#         test_ds.append([f, 1])"
   ]
  },
  {
   "cell_type": "code",
   "execution_count": 31,
   "id": "aa353918-6669-4618-a7c2-c22b49585b05",
   "metadata": {},
   "outputs": [],
   "source": [
    "import pandas as pd\n",
    "pd.DataFrame(train_ds).to_csv('train.csv', sep=' ', header=False, index=False)\n",
    "pd.DataFrame(val_ds).to_csv('val.csv', sep=' ', header=False, index=False)\n",
    "pd.DataFrame(test_ds).to_csv('test.csv', sep=' ', header=False, index=False)"
   ]
  },
  {
   "cell_type": "code",
   "execution_count": null,
   "id": "a02fcba0-ac62-44d0-a9d9-44b287818d75",
   "metadata": {},
   "outputs": [],
   "source": []
  }
 ],
 "metadata": {
  "kernelspec": {
   "display_name": "Python 3 (ipykernel)",
   "language": "python",
   "name": "python3"
  },
  "language_info": {
   "codemirror_mode": {
    "name": "ipython",
    "version": 3
   },
   "file_extension": ".py",
   "mimetype": "text/x-python",
   "name": "python",
   "nbconvert_exporter": "python",
   "pygments_lexer": "ipython3",
   "version": "3.9.2"
  }
 },
 "nbformat": 4,
 "nbformat_minor": 5
}
